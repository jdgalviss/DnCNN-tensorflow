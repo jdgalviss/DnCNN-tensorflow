{
 "cells": [
  {
   "cell_type": "code",
   "execution_count": 1,
   "metadata": {},
   "outputs": [
    {
     "name": "stderr",
     "output_type": "stream",
     "text": [
      "/usr/local/lib/python2.7/dist-packages/h5py/__init__.py:36: FutureWarning: Conversion of the second argument of issubdtype from `float` to `np.floating` is deprecated. In future, it will be treated as `np.float64 == np.dtype(float).type`.\n",
      "  from ._conv import register_converters as _register_converters\n"
     ]
    }
   ],
   "source": [
    "import argparse\n",
    "from glob import glob\n",
    "import tensorflow as tf\n",
    "import time\n",
    "from model import denoiser\n",
    "import os\n",
    "import numpy as np"
   ]
  },
  {
   "cell_type": "code",
   "execution_count": 2,
   "metadata": {},
   "outputs": [],
   "source": [
    "class Namespace:\n",
    "    def __init__(self, **kwargs):\n",
    "        self.__dict__.update(kwargs)\n",
    "        \n",
    "args = Namespace(epoch=10, batch_size=32, lr=0.001, use_gpu=1, phase='train',ckpt_dir='./checkpoint', test_dir='./data/denoised')\n"
   ]
  },
  {
   "cell_type": "code",
   "execution_count": 3,
   "metadata": {},
   "outputs": [],
   "source": [
    "def denoiser_train(denoiser, lr):\n",
    "        noisy_eval_files = glob('./data/train/noisy/*.png')\n",
    "        noisy_eval_files = sorted(noisy_eval_files)\n",
    "        eval_files = glob('./data/train/original/*.png')\n",
    "        eval_files = sorted(eval_files)\n",
    "        denoiser.train(eval_files, noisy_eval_files, batch_size=args.batch_size, ckpt_dir=args.ckpt_dir, epoch=args.epoch, lr=lr)\n",
    "\n"
   ]
  },
  {
   "cell_type": "code",
   "execution_count": 4,
   "metadata": {},
   "outputs": [],
   "source": [
    "\n",
    "def denoiser_test(denoiser):\n",
    "\n",
    "    noisy_eval_files = glob('./data/test/noisy/*.png')\n",
    "#    n = [int(i) for i in map(lambda x: x.split('/')[-1].split('.png')[0], noisy_eval_files)]\n",
    "#    noisy_eval_files = [x for (y, x) in sorted(zip(n, noisy_eval_files))]\n",
    "    noisy_eval_files = sorted(noisy_eval_files)\n",
    "    eval_files = glob('./data/test/original/*.png')\n",
    "    eval_files = sorted(eval_files)\n",
    "    start = time.time()\n",
    "    denoiser.test(eval_files, noisy_eval_files, ckpt_dir=args.ckpt_dir, save_dir='./data/denoised')\n",
    "    end = time.time()\n",
    "    print \"Elapsed time:\", end-start"
   ]
  },
  {
   "cell_type": "code",
   "execution_count": 5,
   "metadata": {},
   "outputs": [],
   "source": [
    "def run():\n",
    "    if not os.path.exists(args.ckpt_dir):\n",
    "        os.makedirs(args.ckpt_dir)\n",
    "    if not os.path.exists(args.test_dir):\n",
    "        os.makedirs(args.test_dir)\n",
    "\n",
    "    lr = args.lr * np.ones([args.epoch])\n",
    "    lr[30:] = lr[0] / 10.0\n",
    "    if args.use_gpu:\n",
    "        # added to control the gpu memory\n",
    "        print(\"GPU\\n\")\n",
    "        gpu_options = tf.GPUOptions(per_process_gpu_memory_fraction=0.9)\n",
    "        with tf.Session(config=tf.ConfigProto(gpu_options=gpu_options)) as sess:\n",
    "            model = denoiser(sess)\n",
    "            if args.phase == 'train':\n",
    "                denoiser_train(model, lr=lr)\n",
    "            elif args.phase == 'test':\n",
    "                denoiser_test(model)\n",
    "            else:\n",
    "                print('[!]Unknown phase')\n",
    "                exit(0)\n",
    "    else:\n",
    "        print(\"CPU\\n\")\n",
    "        with tf.Session() as sess:\n",
    "            model = denoiser(sess)\n",
    "            if args.phase == 'train':\n",
    "                denoiser_train(model, lr=lr)\n",
    "            elif args.phase == 'test':\n",
    "                denoiser_test(model)\n",
    "            else:\n",
    "                print('[!]Unknown phase')\n",
    "                exit(0)\n"
   ]
  },
  {
   "cell_type": "code",
   "execution_count": 6,
   "metadata": {},
   "outputs": [],
   "source": [
    "\n",
    "\n",
    "\n",
    "def test():\n",
    "    gpu_options = tf.GPUOptions(per_process_gpu_memory_fraction=0.9)\n",
    "    with tf.Session(config=tf.ConfigProto(gpu_options=gpu_options)) as sess:\n",
    "      model = denoiser(sess)\n",
    "      denoiser_test(model)"
   ]
  },
  {
   "cell_type": "code",
   "execution_count": null,
   "metadata": {},
   "outputs": [
    {
     "name": "stdout",
     "output_type": "stream",
     "text": [
      "GPU\n",
      "\n",
      "[*] Initialize model successfully...\n",
      "[*] Reading checkpoint...\n",
      "[*] Not find pretrained model!\n"
     ]
    }
   ],
   "source": [
    "run()"
   ]
  },
  {
   "cell_type": "code",
   "execution_count": null,
   "metadata": {},
   "outputs": [],
   "source": []
  }
 ],
 "metadata": {
  "kernelspec": {
   "display_name": "Python 2",
   "language": "python",
   "name": "python2"
  },
  "language_info": {
   "codemirror_mode": {
    "name": "ipython",
    "version": 2
   },
   "file_extension": ".py",
   "mimetype": "text/x-python",
   "name": "python",
   "nbconvert_exporter": "python",
   "pygments_lexer": "ipython2",
   "version": "2.7.12"
  }
 },
 "nbformat": 4,
 "nbformat_minor": 2
}